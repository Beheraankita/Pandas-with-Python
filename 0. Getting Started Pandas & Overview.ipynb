{
 "cells": [
  {
   "cell_type": "markdown",
   "metadata": {},
   "source": [
    "[Getting Started Pandas & Overview](https://hub.mybinder.org/user/reddyprasade-pandas-with-python-d95y58uz/notebooks/0.%20Getting%20Started%20Pandas%20%26%20Overview.ipynb#)|            |[Table-of-content](https://hub.mybinder.org/user/reddyprasade-pandas-with-python-d95y58uz/notebooks/Table-of-content.ipynb)"
   ]
  },
  {
   "cell_type": "markdown",
   "metadata": {},
   "source": [
    "#                                            Pandas"
   ]
  },
  {
   "cell_type": "markdown",
   "metadata": {},
   "source": [
    "Pandas is a Python package providing fast, flexible, and expressive data structures designed to make working with “relational” or “labeled” data both easy and intuitive. It aims to be the fundamental high-level building block for doing practical, real world data analysis in Python. Additionally, it has the broader goal of becoming the most powerful and flexible open source data analysis / manipulation tool available in any language. It is already well on its way toward this goal.\n",
    "\n",
    "Pandas is an open source, BSD-licensed library providing high-performance, easy-to-use data structures and data analysis tools for the Python programming language.\n",
    "\n",
    "This will help ensure the success of development of pandas as a world-class open-source project.\n",
    "\n"
   ]
  },
  {
   "cell_type": "markdown",
   "metadata": {},
   "source": [
    "The release can be installed with conda from conda-forge or the default channel:"
   ]
  },
  {
   "cell_type": "raw",
   "metadata": {},
   "source": [
    "conda install pandas"
   ]
  },
  {
   "cell_type": "markdown",
   "metadata": {},
   "source": [
    "Or via PyPI:"
   ]
  },
  {
   "cell_type": "raw",
   "metadata": {},
   "source": [
    "python3 -m pip install --upgrade pandas\n",
    "                 or \n",
    "python3 -m pip install --upgrade pandas==0.23.0"
   ]
  },
  {
   "cell_type": "markdown",
   "metadata": {},
   "source": [
    "### What problem does pandas solve"
   ]
  },
  {
   "cell_type": "markdown",
   "metadata": {},
   "source": [
    "1. Python has long been great for data munging and preparation, but less so for data analysis and modeling. \n",
    "\n",
    "2. Pandas helps fill this gap, enabling you to carry out your entire data analysis workflow in Python without having to switch to a more domain specific language like R.\n",
    "\n",
    "3. Combined with the excellent IPython toolkit and other libraries, the environment for doing data analysis in Python excels in performance, productivity, and the ability to collaborate.\n",
    "\n",
    "4. Pandas does not implement significant modeling functionality outside of linear and panel regression; for this, look to statsmodels and scikit-learn. \n",
    "\n",
    "5. More work is still needed to make Python a first class statistical modeling environment, but we are well on our way toward that goal."
   ]
  },
  {
   "cell_type": "markdown",
   "metadata": {},
   "source": [
    "## Library Highlights"
   ]
  },
  {
   "cell_type": "markdown",
   "metadata": {},
   "source": [
    "1. A fast and efficient DataFrame object for data manipulation with integrated indexing;\n",
    "2. Tools for reading and writing data between in-memory data structures and different formats: CSV and text files, Microsoft Excel, SQL databases, and the fast HDF5 format;\n",
    "3. Intelligent data alignment and integrated handling of missing data: gain automatic label-based alignment in computations and easily manipulate messy data into an orderly form;\n",
    "Flexible reshaping and pivoting of data sets;\n",
    "4. Intelligent label-based slicing, fancy indexing, and subsetting of large data sets;\n",
    "5. Columns can be inserted and deleted from data structures for size mutability;\n",
    "6. Aggregating or transforming data with a powerful group by engine allowing split-apply-combine operations on data sets;\n",
    "7. High performance merging and joining of data sets;\n",
    "8. Hierarchical axis indexing provides an intuitive way of working with high-dimensional data in a lower-dimensional data structure;\n",
    "9. Time series-functionality: date range generation and frequency conversion, moving window statistics, moving window linear regressions, date shifting and lagging. Even create domain-specific time offsets and join time series without losing data;\n",
    "10. Highly optimized for performance, with critical code paths written in Cython or C.\n",
    "11. Python with pandas is in use in a wide variety of academic and commercial domains, including Finance, Neuroscience, Economics, Statistics, Advertising, Web Analytics, and more.\n",
    "12. Easy handling of missing data (represented as NaN) in floating point as well as non-floating point data\n",
    "13. Size mutability: columns can be inserted and deleted from DataFrame and higher dimensional objects\n",
    "14. Automatic and explicit data alignment: objects can be explicitly aligned to a set of labels, or the user can simply ignore the labels and let Series, DataFrame, etc. automatically align the data for you in computations\n",
    "15. Powerful, flexible group by functionality to perform split-apply-combine operations on data sets, for both aggregating and transforming data\n",
    "16. Make it easy to convert ragged, differently-indexed data in other Python and NumPy data structures into DataFrame objects\n",
    "17. Intelligent label-based slicing, fancy indexing, and subsetting of large data sets\n",
    "18. Intuitive merging and joining data sets\n",
    "19. Flexible reshaping and pivoting of data sets\n",
    "20. Hierarchical labeling of axes (possible to have multiple labels per tick)\n",
    "21. Robust IO tools for loading data from flat files (CSV and delimited), Excel files, databases, and saving / loading data from the ultrafast HDF5 format\n",
    "22. Time series-specific functionality: date range generation and frequency conversion, moving window statistics, moving window linear regressions, date shifting and lagging, etc."
   ]
  },
  {
   "cell_type": "markdown",
   "metadata": {},
   "source": [
    "### Pandas is well suited for many different kinds of data:\n",
    "\n",
    "1. Tabular data with heterogeneously-typed columns, as in an SQL table or Excel spreadsheet\n",
    "2. Ordered and unordered (not necessarily fixed-frequency) time series data.\n",
    "3. Arbitrary matrix data (homogeneously typed or heterogeneous) with row and column labels\n",
    "4. Any other form of observational / statistical data sets. The data actually need not be labeled at all to be placed into a pandas data structure"
   ]
  },
  {
   "cell_type": "markdown",
   "metadata": {},
   "source": [
    "[Getting Started Pandas & Overview](https://hub.mybinder.org/user/reddyprasade-pandas-with-python-d95y58uz/notebooks/0.%20Getting%20Started%20Pandas%20%26%20Overview.ipynb#)|            |[Table-of-content](https://hub.mybinder.org/user/reddyprasade-pandas-with-python-d95y58uz/notebooks/Table-of-content.ipynb)"
   ]
  }
 ],
 "metadata": {
  "kernelspec": {
   "display_name": "Python 3",
   "language": "python",
   "name": "python3"
  },
  "language_info": {
   "codemirror_mode": {
    "name": "ipython",
    "version": 3
   },
   "file_extension": ".py",
   "mimetype": "text/x-python",
   "name": "python",
   "nbconvert_exporter": "python",
   "pygments_lexer": "ipython3",
   "version": "3.7.3"
  }
 },
 "nbformat": 4,
 "nbformat_minor": 2
}
